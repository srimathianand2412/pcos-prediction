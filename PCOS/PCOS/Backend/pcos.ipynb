{
 "cells": [
  {
   "cell_type": "code",
   "execution_count": 1,
   "id": "29aea4f8",
   "metadata": {},
   "outputs": [],
   "source": [
    "import numpy as np\n",
    "import matplotlib.pyplot as plt\n",
    "import pandas as pd\n",
    "import seaborn as sns\n",
    "from sklearn.preprocessing import LabelEncoder\n",
    "import warnings\n",
    "warnings.filterwarnings('ignore')"
   ]
  },
  {
   "cell_type": "code",
   "execution_count": 2,
   "id": "8dc95470",
   "metadata": {},
   "outputs": [],
   "source": [
    "data = pd.read_csv('PCOS.csv')"
   ]
  },
  {
   "cell_type": "code",
   "execution_count": 3,
   "id": "ff6523bb",
   "metadata": {},
   "outputs": [
    {
     "data": {
      "text/html": [
       "<div>\n",
       "<style scoped>\n",
       "    .dataframe tbody tr th:only-of-type {\n",
       "        vertical-align: middle;\n",
       "    }\n",
       "\n",
       "    .dataframe tbody tr th {\n",
       "        vertical-align: top;\n",
       "    }\n",
       "\n",
       "    .dataframe thead th {\n",
       "        text-align: right;\n",
       "    }\n",
       "</style>\n",
       "<table border=\"1\" class=\"dataframe\">\n",
       "  <thead>\n",
       "    <tr style=\"text-align: right;\">\n",
       "      <th></th>\n",
       "      <th>Sl. No</th>\n",
       "      <th>Patient File No.</th>\n",
       "      <th>PCOS (Y/N)</th>\n",
       "      <th>Age (yrs)</th>\n",
       "      <th>Weight (Kg)</th>\n",
       "      <th>Height(Cm)</th>\n",
       "      <th>BMI</th>\n",
       "      <th>Blood Group</th>\n",
       "      <th>Pulse rate(bpm)</th>\n",
       "      <th>RR (breaths/min)</th>\n",
       "      <th>...</th>\n",
       "      <th>Fast food (Y/N)</th>\n",
       "      <th>Reg.Exercise(Y/N)</th>\n",
       "      <th>BP _Systolic (mmHg)</th>\n",
       "      <th>BP _Diastolic (mmHg)</th>\n",
       "      <th>Follicle No. (L)</th>\n",
       "      <th>Follicle No. (R)</th>\n",
       "      <th>Avg. F size (L) (mm)</th>\n",
       "      <th>Avg. F size (R) (mm)</th>\n",
       "      <th>Endometrium (mm)</th>\n",
       "      <th>Unnamed: 44</th>\n",
       "    </tr>\n",
       "  </thead>\n",
       "  <tbody>\n",
       "    <tr>\n",
       "      <th>0</th>\n",
       "      <td>1</td>\n",
       "      <td>1</td>\n",
       "      <td>0</td>\n",
       "      <td>28</td>\n",
       "      <td>44.6</td>\n",
       "      <td>152.0</td>\n",
       "      <td>19.3</td>\n",
       "      <td>15</td>\n",
       "      <td>78</td>\n",
       "      <td>22</td>\n",
       "      <td>...</td>\n",
       "      <td>1.0</td>\n",
       "      <td>0</td>\n",
       "      <td>110</td>\n",
       "      <td>80</td>\n",
       "      <td>3</td>\n",
       "      <td>3</td>\n",
       "      <td>18.0</td>\n",
       "      <td>18.0</td>\n",
       "      <td>8.5</td>\n",
       "      <td>NaN</td>\n",
       "    </tr>\n",
       "    <tr>\n",
       "      <th>1</th>\n",
       "      <td>2</td>\n",
       "      <td>2</td>\n",
       "      <td>0</td>\n",
       "      <td>36</td>\n",
       "      <td>65.0</td>\n",
       "      <td>161.5</td>\n",
       "      <td>#NAME?</td>\n",
       "      <td>15</td>\n",
       "      <td>74</td>\n",
       "      <td>20</td>\n",
       "      <td>...</td>\n",
       "      <td>0.0</td>\n",
       "      <td>0</td>\n",
       "      <td>120</td>\n",
       "      <td>70</td>\n",
       "      <td>3</td>\n",
       "      <td>5</td>\n",
       "      <td>15.0</td>\n",
       "      <td>14.0</td>\n",
       "      <td>3.7</td>\n",
       "      <td>NaN</td>\n",
       "    </tr>\n",
       "    <tr>\n",
       "      <th>2</th>\n",
       "      <td>3</td>\n",
       "      <td>3</td>\n",
       "      <td>1</td>\n",
       "      <td>33</td>\n",
       "      <td>68.8</td>\n",
       "      <td>165.0</td>\n",
       "      <td>#NAME?</td>\n",
       "      <td>11</td>\n",
       "      <td>72</td>\n",
       "      <td>18</td>\n",
       "      <td>...</td>\n",
       "      <td>1.0</td>\n",
       "      <td>0</td>\n",
       "      <td>120</td>\n",
       "      <td>80</td>\n",
       "      <td>13</td>\n",
       "      <td>15</td>\n",
       "      <td>18.0</td>\n",
       "      <td>20.0</td>\n",
       "      <td>10.0</td>\n",
       "      <td>NaN</td>\n",
       "    </tr>\n",
       "    <tr>\n",
       "      <th>3</th>\n",
       "      <td>4</td>\n",
       "      <td>4</td>\n",
       "      <td>0</td>\n",
       "      <td>37</td>\n",
       "      <td>65.0</td>\n",
       "      <td>148.0</td>\n",
       "      <td>#NAME?</td>\n",
       "      <td>13</td>\n",
       "      <td>72</td>\n",
       "      <td>20</td>\n",
       "      <td>...</td>\n",
       "      <td>0.0</td>\n",
       "      <td>0</td>\n",
       "      <td>120</td>\n",
       "      <td>70</td>\n",
       "      <td>2</td>\n",
       "      <td>2</td>\n",
       "      <td>15.0</td>\n",
       "      <td>14.0</td>\n",
       "      <td>7.5</td>\n",
       "      <td>NaN</td>\n",
       "    </tr>\n",
       "    <tr>\n",
       "      <th>4</th>\n",
       "      <td>5</td>\n",
       "      <td>5</td>\n",
       "      <td>0</td>\n",
       "      <td>25</td>\n",
       "      <td>52.0</td>\n",
       "      <td>161.0</td>\n",
       "      <td>#NAME?</td>\n",
       "      <td>11</td>\n",
       "      <td>72</td>\n",
       "      <td>18</td>\n",
       "      <td>...</td>\n",
       "      <td>0.0</td>\n",
       "      <td>0</td>\n",
       "      <td>120</td>\n",
       "      <td>80</td>\n",
       "      <td>3</td>\n",
       "      <td>4</td>\n",
       "      <td>16.0</td>\n",
       "      <td>14.0</td>\n",
       "      <td>7.0</td>\n",
       "      <td>NaN</td>\n",
       "    </tr>\n",
       "  </tbody>\n",
       "</table>\n",
       "<p>5 rows × 45 columns</p>\n",
       "</div>"
      ],
      "text/plain": [
       "   Sl. No  Patient File No.  PCOS (Y/N)   Age (yrs)  Weight (Kg)  Height(Cm)   \\\n",
       "0       1                 1           0          28         44.6        152.0   \n",
       "1       2                 2           0          36         65.0        161.5   \n",
       "2       3                 3           1          33         68.8        165.0   \n",
       "3       4                 4           0          37         65.0        148.0   \n",
       "4       5                 5           0          25         52.0        161.0   \n",
       "\n",
       "      BMI  Blood Group  Pulse rate(bpm)   RR (breaths/min)  ...  \\\n",
       "0    19.3           15                78                22  ...   \n",
       "1  #NAME?           15                74                20  ...   \n",
       "2  #NAME?           11                72                18  ...   \n",
       "3  #NAME?           13                72                20  ...   \n",
       "4  #NAME?           11                72                18  ...   \n",
       "\n",
       "   Fast food (Y/N)  Reg.Exercise(Y/N)  BP _Systolic (mmHg)  \\\n",
       "0              1.0                  0                  110   \n",
       "1              0.0                  0                  120   \n",
       "2              1.0                  0                  120   \n",
       "3              0.0                  0                  120   \n",
       "4              0.0                  0                  120   \n",
       "\n",
       "   BP _Diastolic (mmHg)  Follicle No. (L)  Follicle No. (R)  \\\n",
       "0                    80                 3                 3   \n",
       "1                    70                 3                 5   \n",
       "2                    80                13                15   \n",
       "3                    70                 2                 2   \n",
       "4                    80                 3                 4   \n",
       "\n",
       "   Avg. F size (L) (mm) Avg. F size (R) (mm)  Endometrium (mm)  Unnamed: 44  \n",
       "0                  18.0                 18.0               8.5          NaN  \n",
       "1                  15.0                 14.0               3.7          NaN  \n",
       "2                  18.0                 20.0              10.0          NaN  \n",
       "3                  15.0                 14.0               7.5          NaN  \n",
       "4                  16.0                 14.0               7.0          NaN  \n",
       "\n",
       "[5 rows x 45 columns]"
      ]
     },
     "execution_count": 3,
     "metadata": {},
     "output_type": "execute_result"
    }
   ],
   "source": [
    "data.head()"
   ]
  },
  {
   "cell_type": "code",
   "execution_count": 4,
   "id": "2d6778bb",
   "metadata": {},
   "outputs": [],
   "source": [
    "data= data[['PCOS (Y/N)', ' Age (yrs)','Weight (Kg)','Blood Group','Hb(g/dl)','Marraige Status (Yrs)','Pregnant(Y/N)','RR (breaths/min)','RBS(mg/dl)','Weight gain(Y/N)','Skin darkening (Y/N)','Hair loss(Y/N)','Pimples(Y/N)','Endometrium (mm)']]"
   ]
  },
  {
   "cell_type": "code",
   "execution_count": 5,
   "id": "2d8c766b",
   "metadata": {},
   "outputs": [
    {
     "data": {
      "text/html": [
       "<div>\n",
       "<style scoped>\n",
       "    .dataframe tbody tr th:only-of-type {\n",
       "        vertical-align: middle;\n",
       "    }\n",
       "\n",
       "    .dataframe tbody tr th {\n",
       "        vertical-align: top;\n",
       "    }\n",
       "\n",
       "    .dataframe thead th {\n",
       "        text-align: right;\n",
       "    }\n",
       "</style>\n",
       "<table border=\"1\" class=\"dataframe\">\n",
       "  <thead>\n",
       "    <tr style=\"text-align: right;\">\n",
       "      <th></th>\n",
       "      <th>PCOS (Y/N)</th>\n",
       "      <th>Age (yrs)</th>\n",
       "      <th>Weight (Kg)</th>\n",
       "      <th>Blood Group</th>\n",
       "      <th>Hb(g/dl)</th>\n",
       "      <th>Marraige Status (Yrs)</th>\n",
       "      <th>Pregnant(Y/N)</th>\n",
       "      <th>RR (breaths/min)</th>\n",
       "      <th>RBS(mg/dl)</th>\n",
       "      <th>Weight gain(Y/N)</th>\n",
       "      <th>Skin darkening (Y/N)</th>\n",
       "      <th>Hair loss(Y/N)</th>\n",
       "      <th>Pimples(Y/N)</th>\n",
       "      <th>Endometrium (mm)</th>\n",
       "    </tr>\n",
       "  </thead>\n",
       "  <tbody>\n",
       "    <tr>\n",
       "      <th>0</th>\n",
       "      <td>0</td>\n",
       "      <td>28</td>\n",
       "      <td>44.6</td>\n",
       "      <td>15</td>\n",
       "      <td>10.48</td>\n",
       "      <td>7.0</td>\n",
       "      <td>0</td>\n",
       "      <td>22</td>\n",
       "      <td>92.0</td>\n",
       "      <td>0</td>\n",
       "      <td>0</td>\n",
       "      <td>0</td>\n",
       "      <td>0</td>\n",
       "      <td>8.5</td>\n",
       "    </tr>\n",
       "    <tr>\n",
       "      <th>1</th>\n",
       "      <td>0</td>\n",
       "      <td>36</td>\n",
       "      <td>65.0</td>\n",
       "      <td>15</td>\n",
       "      <td>11.70</td>\n",
       "      <td>11.0</td>\n",
       "      <td>1</td>\n",
       "      <td>20</td>\n",
       "      <td>92.0</td>\n",
       "      <td>0</td>\n",
       "      <td>0</td>\n",
       "      <td>0</td>\n",
       "      <td>0</td>\n",
       "      <td>3.7</td>\n",
       "    </tr>\n",
       "    <tr>\n",
       "      <th>2</th>\n",
       "      <td>1</td>\n",
       "      <td>33</td>\n",
       "      <td>68.8</td>\n",
       "      <td>11</td>\n",
       "      <td>11.80</td>\n",
       "      <td>10.0</td>\n",
       "      <td>1</td>\n",
       "      <td>18</td>\n",
       "      <td>84.0</td>\n",
       "      <td>0</td>\n",
       "      <td>0</td>\n",
       "      <td>1</td>\n",
       "      <td>1</td>\n",
       "      <td>10.0</td>\n",
       "    </tr>\n",
       "    <tr>\n",
       "      <th>3</th>\n",
       "      <td>0</td>\n",
       "      <td>37</td>\n",
       "      <td>65.0</td>\n",
       "      <td>13</td>\n",
       "      <td>12.00</td>\n",
       "      <td>4.0</td>\n",
       "      <td>0</td>\n",
       "      <td>20</td>\n",
       "      <td>76.0</td>\n",
       "      <td>0</td>\n",
       "      <td>0</td>\n",
       "      <td>0</td>\n",
       "      <td>0</td>\n",
       "      <td>7.5</td>\n",
       "    </tr>\n",
       "    <tr>\n",
       "      <th>4</th>\n",
       "      <td>0</td>\n",
       "      <td>25</td>\n",
       "      <td>52.0</td>\n",
       "      <td>11</td>\n",
       "      <td>10.00</td>\n",
       "      <td>1.0</td>\n",
       "      <td>1</td>\n",
       "      <td>18</td>\n",
       "      <td>84.0</td>\n",
       "      <td>0</td>\n",
       "      <td>0</td>\n",
       "      <td>1</td>\n",
       "      <td>0</td>\n",
       "      <td>7.0</td>\n",
       "    </tr>\n",
       "    <tr>\n",
       "      <th>...</th>\n",
       "      <td>...</td>\n",
       "      <td>...</td>\n",
       "      <td>...</td>\n",
       "      <td>...</td>\n",
       "      <td>...</td>\n",
       "      <td>...</td>\n",
       "      <td>...</td>\n",
       "      <td>...</td>\n",
       "      <td>...</td>\n",
       "      <td>...</td>\n",
       "      <td>...</td>\n",
       "      <td>...</td>\n",
       "      <td>...</td>\n",
       "      <td>...</td>\n",
       "    </tr>\n",
       "    <tr>\n",
       "      <th>536</th>\n",
       "      <td>0</td>\n",
       "      <td>35</td>\n",
       "      <td>50.0</td>\n",
       "      <td>17</td>\n",
       "      <td>11.00</td>\n",
       "      <td>8.0</td>\n",
       "      <td>0</td>\n",
       "      <td>16</td>\n",
       "      <td>92.0</td>\n",
       "      <td>0</td>\n",
       "      <td>0</td>\n",
       "      <td>0</td>\n",
       "      <td>0</td>\n",
       "      <td>6.7</td>\n",
       "    </tr>\n",
       "    <tr>\n",
       "      <th>537</th>\n",
       "      <td>0</td>\n",
       "      <td>30</td>\n",
       "      <td>63.2</td>\n",
       "      <td>15</td>\n",
       "      <td>10.80</td>\n",
       "      <td>4.0</td>\n",
       "      <td>1</td>\n",
       "      <td>18</td>\n",
       "      <td>108.0</td>\n",
       "      <td>1</td>\n",
       "      <td>0</td>\n",
       "      <td>0</td>\n",
       "      <td>0</td>\n",
       "      <td>8.2</td>\n",
       "    </tr>\n",
       "    <tr>\n",
       "      <th>538</th>\n",
       "      <td>0</td>\n",
       "      <td>36</td>\n",
       "      <td>54.0</td>\n",
       "      <td>13</td>\n",
       "      <td>10.80</td>\n",
       "      <td>8.0</td>\n",
       "      <td>0</td>\n",
       "      <td>20</td>\n",
       "      <td>92.0</td>\n",
       "      <td>0</td>\n",
       "      <td>0</td>\n",
       "      <td>0</td>\n",
       "      <td>0</td>\n",
       "      <td>7.3</td>\n",
       "    </tr>\n",
       "    <tr>\n",
       "      <th>539</th>\n",
       "      <td>0</td>\n",
       "      <td>27</td>\n",
       "      <td>50.0</td>\n",
       "      <td>15</td>\n",
       "      <td>12.00</td>\n",
       "      <td>2.0</td>\n",
       "      <td>0</td>\n",
       "      <td>20</td>\n",
       "      <td>115.0</td>\n",
       "      <td>0</td>\n",
       "      <td>0</td>\n",
       "      <td>0</td>\n",
       "      <td>1</td>\n",
       "      <td>11.5</td>\n",
       "    </tr>\n",
       "    <tr>\n",
       "      <th>540</th>\n",
       "      <td>1</td>\n",
       "      <td>23</td>\n",
       "      <td>82.0</td>\n",
       "      <td>13</td>\n",
       "      <td>10.20</td>\n",
       "      <td>2.0</td>\n",
       "      <td>0</td>\n",
       "      <td>20</td>\n",
       "      <td>108.0</td>\n",
       "      <td>1</td>\n",
       "      <td>1</td>\n",
       "      <td>1</td>\n",
       "      <td>1</td>\n",
       "      <td>6.9</td>\n",
       "    </tr>\n",
       "  </tbody>\n",
       "</table>\n",
       "<p>541 rows × 14 columns</p>\n",
       "</div>"
      ],
      "text/plain": [
       "     PCOS (Y/N)   Age (yrs)  Weight (Kg)  Blood Group  Hb(g/dl)  \\\n",
       "0             0          28         44.6           15     10.48   \n",
       "1             0          36         65.0           15     11.70   \n",
       "2             1          33         68.8           11     11.80   \n",
       "3             0          37         65.0           13     12.00   \n",
       "4             0          25         52.0           11     10.00   \n",
       "..          ...         ...          ...          ...       ...   \n",
       "536           0          35         50.0           17     11.00   \n",
       "537           0          30         63.2           15     10.80   \n",
       "538           0          36         54.0           13     10.80   \n",
       "539           0          27         50.0           15     12.00   \n",
       "540           1          23         82.0           13     10.20   \n",
       "\n",
       "     Marraige Status (Yrs)  Pregnant(Y/N)  RR (breaths/min)  RBS(mg/dl)  \\\n",
       "0                      7.0              0                22        92.0   \n",
       "1                     11.0              1                20        92.0   \n",
       "2                     10.0              1                18        84.0   \n",
       "3                      4.0              0                20        76.0   \n",
       "4                      1.0              1                18        84.0   \n",
       "..                     ...            ...               ...         ...   \n",
       "536                    8.0              0                16        92.0   \n",
       "537                    4.0              1                18       108.0   \n",
       "538                    8.0              0                20        92.0   \n",
       "539                    2.0              0                20       115.0   \n",
       "540                    2.0              0                20       108.0   \n",
       "\n",
       "     Weight gain(Y/N)  Skin darkening (Y/N)  Hair loss(Y/N)  Pimples(Y/N)  \\\n",
       "0                   0                     0               0             0   \n",
       "1                   0                     0               0             0   \n",
       "2                   0                     0               1             1   \n",
       "3                   0                     0               0             0   \n",
       "4                   0                     0               1             0   \n",
       "..                ...                   ...             ...           ...   \n",
       "536                 0                     0               0             0   \n",
       "537                 1                     0               0             0   \n",
       "538                 0                     0               0             0   \n",
       "539                 0                     0               0             1   \n",
       "540                 1                     1               1             1   \n",
       "\n",
       "     Endometrium (mm)  \n",
       "0                 8.5  \n",
       "1                 3.7  \n",
       "2                10.0  \n",
       "3                 7.5  \n",
       "4                 7.0  \n",
       "..                ...  \n",
       "536               6.7  \n",
       "537               8.2  \n",
       "538               7.3  \n",
       "539              11.5  \n",
       "540               6.9  \n",
       "\n",
       "[541 rows x 14 columns]"
      ]
     },
     "execution_count": 5,
     "metadata": {},
     "output_type": "execute_result"
    }
   ],
   "source": [
    "data"
   ]
  },
  {
   "cell_type": "code",
   "execution_count": 6,
   "id": "0b4f7cf8",
   "metadata": {},
   "outputs": [
    {
     "data": {
      "text/plain": [
       "PCOS (Y/N)               0\n",
       " Age (yrs)               0\n",
       "Weight (Kg)              0\n",
       "Blood Group              0\n",
       "Hb(g/dl)                 0\n",
       "Marraige Status (Yrs)    1\n",
       "Pregnant(Y/N)            0\n",
       "RR (breaths/min)         0\n",
       "RBS(mg/dl)               0\n",
       "Weight gain(Y/N)         0\n",
       "Skin darkening (Y/N)     0\n",
       "Hair loss(Y/N)           0\n",
       "Pimples(Y/N)             0\n",
       "Endometrium (mm)         0\n",
       "dtype: int64"
      ]
     },
     "execution_count": 6,
     "metadata": {},
     "output_type": "execute_result"
    }
   ],
   "source": [
    "data.isnull().sum()"
   ]
  },
  {
   "cell_type": "code",
   "execution_count": 7,
   "id": "4a5cf309",
   "metadata": {},
   "outputs": [],
   "source": [
    "data['Marraige Status (Yrs)']=data['Marraige Status (Yrs)'].fillna(data['Marraige Status (Yrs)'].mean())"
   ]
  },
  {
   "cell_type": "code",
   "execution_count": 8,
   "id": "c5e941bc",
   "metadata": {},
   "outputs": [
    {
     "data": {
      "text/plain": [
       "PCOS (Y/N)               0\n",
       " Age (yrs)               0\n",
       "Weight (Kg)              0\n",
       "Blood Group              0\n",
       "Hb(g/dl)                 0\n",
       "Marraige Status (Yrs)    0\n",
       "Pregnant(Y/N)            0\n",
       "RR (breaths/min)         0\n",
       "RBS(mg/dl)               0\n",
       "Weight gain(Y/N)         0\n",
       "Skin darkening (Y/N)     0\n",
       "Hair loss(Y/N)           0\n",
       "Pimples(Y/N)             0\n",
       "Endometrium (mm)         0\n",
       "dtype: int64"
      ]
     },
     "execution_count": 8,
     "metadata": {},
     "output_type": "execute_result"
    }
   ],
   "source": [
    "data.isnull().sum()"
   ]
  },
  {
   "cell_type": "code",
   "execution_count": 9,
   "id": "a9d43f60",
   "metadata": {},
   "outputs": [
    {
     "data": {
      "text/plain": [
       "(541, 14)"
      ]
     },
     "execution_count": 9,
     "metadata": {},
     "output_type": "execute_result"
    }
   ],
   "source": [
    "data.shape"
   ]
  },
  {
   "cell_type": "code",
   "execution_count": 10,
   "id": "a0bfc9c4",
   "metadata": {},
   "outputs": [
    {
     "data": {
      "text/html": [
       "<div>\n",
       "<style scoped>\n",
       "    .dataframe tbody tr th:only-of-type {\n",
       "        vertical-align: middle;\n",
       "    }\n",
       "\n",
       "    .dataframe tbody tr th {\n",
       "        vertical-align: top;\n",
       "    }\n",
       "\n",
       "    .dataframe thead th {\n",
       "        text-align: right;\n",
       "    }\n",
       "</style>\n",
       "<table border=\"1\" class=\"dataframe\">\n",
       "  <thead>\n",
       "    <tr style=\"text-align: right;\">\n",
       "      <th></th>\n",
       "      <th>PCOS (Y/N)</th>\n",
       "      <th>Age (yrs)</th>\n",
       "      <th>Weight (Kg)</th>\n",
       "      <th>Blood Group</th>\n",
       "      <th>Hb(g/dl)</th>\n",
       "      <th>Marraige Status (Yrs)</th>\n",
       "      <th>Pregnant(Y/N)</th>\n",
       "      <th>RR (breaths/min)</th>\n",
       "      <th>RBS(mg/dl)</th>\n",
       "      <th>Weight gain(Y/N)</th>\n",
       "      <th>Skin darkening (Y/N)</th>\n",
       "      <th>Hair loss(Y/N)</th>\n",
       "      <th>Pimples(Y/N)</th>\n",
       "      <th>Endometrium (mm)</th>\n",
       "    </tr>\n",
       "  </thead>\n",
       "  <tbody>\n",
       "    <tr>\n",
       "      <th>count</th>\n",
       "      <td>541.000000</td>\n",
       "      <td>541.000000</td>\n",
       "      <td>541.000000</td>\n",
       "      <td>541.000000</td>\n",
       "      <td>541.000000</td>\n",
       "      <td>541.000000</td>\n",
       "      <td>541.000000</td>\n",
       "      <td>541.000000</td>\n",
       "      <td>541.000000</td>\n",
       "      <td>541.000000</td>\n",
       "      <td>541.000000</td>\n",
       "      <td>541.000000</td>\n",
       "      <td>541.000000</td>\n",
       "      <td>541.000000</td>\n",
       "    </tr>\n",
       "    <tr>\n",
       "      <th>mean</th>\n",
       "      <td>0.327172</td>\n",
       "      <td>31.430684</td>\n",
       "      <td>59.637153</td>\n",
       "      <td>13.802218</td>\n",
       "      <td>11.160037</td>\n",
       "      <td>7.680926</td>\n",
       "      <td>0.380776</td>\n",
       "      <td>19.243993</td>\n",
       "      <td>99.835860</td>\n",
       "      <td>0.377079</td>\n",
       "      <td>0.306839</td>\n",
       "      <td>0.452865</td>\n",
       "      <td>0.489834</td>\n",
       "      <td>8.475915</td>\n",
       "    </tr>\n",
       "    <tr>\n",
       "      <th>std</th>\n",
       "      <td>0.469615</td>\n",
       "      <td>5.411006</td>\n",
       "      <td>11.028287</td>\n",
       "      <td>1.840812</td>\n",
       "      <td>0.866904</td>\n",
       "      <td>4.799385</td>\n",
       "      <td>0.486027</td>\n",
       "      <td>1.688629</td>\n",
       "      <td>18.559298</td>\n",
       "      <td>0.485104</td>\n",
       "      <td>0.461609</td>\n",
       "      <td>0.498234</td>\n",
       "      <td>0.500359</td>\n",
       "      <td>2.165381</td>\n",
       "    </tr>\n",
       "    <tr>\n",
       "      <th>min</th>\n",
       "      <td>0.000000</td>\n",
       "      <td>20.000000</td>\n",
       "      <td>31.000000</td>\n",
       "      <td>11.000000</td>\n",
       "      <td>8.500000</td>\n",
       "      <td>0.000000</td>\n",
       "      <td>0.000000</td>\n",
       "      <td>16.000000</td>\n",
       "      <td>60.000000</td>\n",
       "      <td>0.000000</td>\n",
       "      <td>0.000000</td>\n",
       "      <td>0.000000</td>\n",
       "      <td>0.000000</td>\n",
       "      <td>0.000000</td>\n",
       "    </tr>\n",
       "    <tr>\n",
       "      <th>25%</th>\n",
       "      <td>0.000000</td>\n",
       "      <td>28.000000</td>\n",
       "      <td>52.000000</td>\n",
       "      <td>13.000000</td>\n",
       "      <td>10.500000</td>\n",
       "      <td>4.000000</td>\n",
       "      <td>0.000000</td>\n",
       "      <td>18.000000</td>\n",
       "      <td>92.000000</td>\n",
       "      <td>0.000000</td>\n",
       "      <td>0.000000</td>\n",
       "      <td>0.000000</td>\n",
       "      <td>0.000000</td>\n",
       "      <td>7.000000</td>\n",
       "    </tr>\n",
       "    <tr>\n",
       "      <th>50%</th>\n",
       "      <td>0.000000</td>\n",
       "      <td>31.000000</td>\n",
       "      <td>59.000000</td>\n",
       "      <td>14.000000</td>\n",
       "      <td>11.000000</td>\n",
       "      <td>7.000000</td>\n",
       "      <td>0.000000</td>\n",
       "      <td>18.000000</td>\n",
       "      <td>100.000000</td>\n",
       "      <td>0.000000</td>\n",
       "      <td>0.000000</td>\n",
       "      <td>0.000000</td>\n",
       "      <td>0.000000</td>\n",
       "      <td>8.500000</td>\n",
       "    </tr>\n",
       "    <tr>\n",
       "      <th>75%</th>\n",
       "      <td>1.000000</td>\n",
       "      <td>35.000000</td>\n",
       "      <td>65.000000</td>\n",
       "      <td>15.000000</td>\n",
       "      <td>11.700000</td>\n",
       "      <td>10.000000</td>\n",
       "      <td>1.000000</td>\n",
       "      <td>20.000000</td>\n",
       "      <td>107.000000</td>\n",
       "      <td>1.000000</td>\n",
       "      <td>1.000000</td>\n",
       "      <td>1.000000</td>\n",
       "      <td>1.000000</td>\n",
       "      <td>9.800000</td>\n",
       "    </tr>\n",
       "    <tr>\n",
       "      <th>max</th>\n",
       "      <td>1.000000</td>\n",
       "      <td>48.000000</td>\n",
       "      <td>108.000000</td>\n",
       "      <td>18.000000</td>\n",
       "      <td>14.800000</td>\n",
       "      <td>30.000000</td>\n",
       "      <td>1.000000</td>\n",
       "      <td>28.000000</td>\n",
       "      <td>350.000000</td>\n",
       "      <td>1.000000</td>\n",
       "      <td>1.000000</td>\n",
       "      <td>1.000000</td>\n",
       "      <td>1.000000</td>\n",
       "      <td>18.000000</td>\n",
       "    </tr>\n",
       "  </tbody>\n",
       "</table>\n",
       "</div>"
      ],
      "text/plain": [
       "       PCOS (Y/N)   Age (yrs)  Weight (Kg)  Blood Group    Hb(g/dl)  \\\n",
       "count  541.000000  541.000000   541.000000   541.000000  541.000000   \n",
       "mean     0.327172   31.430684    59.637153    13.802218   11.160037   \n",
       "std      0.469615    5.411006    11.028287     1.840812    0.866904   \n",
       "min      0.000000   20.000000    31.000000    11.000000    8.500000   \n",
       "25%      0.000000   28.000000    52.000000    13.000000   10.500000   \n",
       "50%      0.000000   31.000000    59.000000    14.000000   11.000000   \n",
       "75%      1.000000   35.000000    65.000000    15.000000   11.700000   \n",
       "max      1.000000   48.000000   108.000000    18.000000   14.800000   \n",
       "\n",
       "       Marraige Status (Yrs)  Pregnant(Y/N)  RR (breaths/min)  RBS(mg/dl)  \\\n",
       "count             541.000000     541.000000        541.000000  541.000000   \n",
       "mean                7.680926       0.380776         19.243993   99.835860   \n",
       "std                 4.799385       0.486027          1.688629   18.559298   \n",
       "min                 0.000000       0.000000         16.000000   60.000000   \n",
       "25%                 4.000000       0.000000         18.000000   92.000000   \n",
       "50%                 7.000000       0.000000         18.000000  100.000000   \n",
       "75%                10.000000       1.000000         20.000000  107.000000   \n",
       "max                30.000000       1.000000         28.000000  350.000000   \n",
       "\n",
       "       Weight gain(Y/N)  Skin darkening (Y/N)  Hair loss(Y/N)  Pimples(Y/N)  \\\n",
       "count        541.000000            541.000000      541.000000    541.000000   \n",
       "mean           0.377079              0.306839        0.452865      0.489834   \n",
       "std            0.485104              0.461609        0.498234      0.500359   \n",
       "min            0.000000              0.000000        0.000000      0.000000   \n",
       "25%            0.000000              0.000000        0.000000      0.000000   \n",
       "50%            0.000000              0.000000        0.000000      0.000000   \n",
       "75%            1.000000              1.000000        1.000000      1.000000   \n",
       "max            1.000000              1.000000        1.000000      1.000000   \n",
       "\n",
       "       Endometrium (mm)  \n",
       "count        541.000000  \n",
       "mean           8.475915  \n",
       "std            2.165381  \n",
       "min            0.000000  \n",
       "25%            7.000000  \n",
       "50%            8.500000  \n",
       "75%            9.800000  \n",
       "max           18.000000  "
      ]
     },
     "execution_count": 10,
     "metadata": {},
     "output_type": "execute_result"
    }
   ],
   "source": [
    "data.describe()"
   ]
  },
  {
   "cell_type": "code",
   "execution_count": 11,
   "id": "74b10cdf",
   "metadata": {},
   "outputs": [
    {
     "data": {
      "text/plain": [
       "PCOS (Y/N)                 2\n",
       " Age (yrs)                29\n",
       "Weight (Kg)              117\n",
       "Blood Group                8\n",
       "Hb(g/dl)                  46\n",
       "Marraige Status (Yrs)     35\n",
       "Pregnant(Y/N)              2\n",
       "RR (breaths/min)           8\n",
       "RBS(mg/dl)                55\n",
       "Weight gain(Y/N)           2\n",
       "Skin darkening (Y/N)       2\n",
       "Hair loss(Y/N)             2\n",
       "Pimples(Y/N)               2\n",
       "Endometrium (mm)          91\n",
       "dtype: int64"
      ]
     },
     "execution_count": 11,
     "metadata": {},
     "output_type": "execute_result"
    }
   ],
   "source": [
    "data.nunique()"
   ]
  },
  {
   "cell_type": "code",
   "execution_count": 12,
   "id": "3bf45d25",
   "metadata": {},
   "outputs": [
    {
     "data": {
      "text/plain": [
       "Index(['PCOS (Y/N)', ' Age (yrs)', 'Weight (Kg)', 'Blood Group', 'Hb(g/dl)',\n",
       "       'Marraige Status (Yrs)', 'Pregnant(Y/N)', 'RR (breaths/min)',\n",
       "       'RBS(mg/dl)', 'Weight gain(Y/N)', 'Skin darkening (Y/N)',\n",
       "       'Hair loss(Y/N)', 'Pimples(Y/N)', 'Endometrium (mm)'],\n",
       "      dtype='object')"
      ]
     },
     "execution_count": 12,
     "metadata": {},
     "output_type": "execute_result"
    }
   ],
   "source": [
    "data.columns"
   ]
  },
  {
   "cell_type": "code",
   "execution_count": 13,
   "id": "2aaf308a",
   "metadata": {},
   "outputs": [
    {
     "data": {
      "image/png": "[encoded data removed]",
      "text/plain": [
       "<Figure size 1080x1080 with 2 Axes>"
      ]
     },
     "metadata": {
      "needs_background": "light"
     },
     "output_type": "display_data"
    }
   ],
   "source": [
    "plt.figure(figsize=(15,15))\n",
    "sns.heatmap(data.corr(), annot=True)\n",
    "plt.show()"
   ]
  },
  {
   "cell_type": "code",
   "execution_count": 14,
   "id": "bcf63ff4",
   "metadata": {},
   "outputs": [
    {
     "data": {
      "text/plain": [
       "<AxesSubplot:xlabel='PCOS (Y/N)', ylabel='Endometrium (mm)'>"
      ]
     },
     "execution_count": 14,
     "metadata": {},
     "output_type": "execute_result"
    },
    {
     "data": {
      "image/png": "[encoded data removed]",
      "text/plain": [
       "<Figure size 432x288 with 1 Axes>"
      ]
     },
     "metadata": {
      "needs_background": "light"
     },
     "output_type": "display_data"
    }
   ],
   "source": [
    "data.plot(kind=\"scatter\", x=\"PCOS (Y/N)\", y=\"Endometrium (mm)\")"
   ]
  },
  {
   "cell_type": "code",
   "execution_count": 15,
   "id": "13f15af5",
   "metadata": {},
   "outputs": [
    {
     "data": {
      "text/plain": [
       "<AxesSubplot:>"
      ]
     },
     "execution_count": 15,
     "metadata": {},
     "output_type": "execute_result"
    },
    {
     "data": {
      "image/png": "[encoded data removed]",
      "text/plain": [
       "<Figure size 432x288 with 1 Axes>"
      ]
     },
     "metadata": {
      "needs_background": "light"
     },
     "output_type": "display_data"
    }
   ],
   "source": [
    "sns.lineplot(data=data.head(50))"
   ]
  },
  {
   "cell_type": "code",
   "execution_count": 16,
   "id": "c5417f7e",
   "metadata": {},
   "outputs": [
    {
     "data": {
      "text/plain": [
       "Text(0, 0.5, 'PCOS (Y/N)')"
      ]
     },
     "execution_count": 16,
     "metadata": {},
     "output_type": "execute_result"
    },
    {
     "data": {
      "image/png": "[encoded data removed]",
      "text/plain": [
       "<Figure size 720x432 with 1 Axes>"
      ]
     },
     "metadata": {
      "needs_background": "light"
     },
     "output_type": "display_data"
    }
   ],
   "source": [
    "plt.figure(figsize=(10,6))\n",
    "plt.title(\"PCOS\")\n",
    "sns.barplot(x=data.head(30).index, y=data.head(30)['PCOS (Y/N)'])\n",
    "plt.xlabel(\"BMI\")\n",
    "plt.ylabel(\"PCOS (Y/N)\")"
   ]
  },
  {
   "cell_type": "code",
   "execution_count": 17,
   "id": "aaf59afa",
   "metadata": {},
   "outputs": [],
   "source": [
    "X = data.drop(['PCOS (Y/N)'], axis=1)\n",
    "Y = data['PCOS (Y/N)']"
   ]
  },
  {
   "cell_type": "code",
   "execution_count": 18,
   "id": "fa1004ce",
   "metadata": {},
   "outputs": [
    {
     "data": {
      "text/html": [
       "<div>\n",
       "<style scoped>\n",
       "    .dataframe tbody tr th:only-of-type {\n",
       "        vertical-align: middle;\n",
       "    }\n",
       "\n",
       "    .dataframe tbody tr th {\n",
       "        vertical-align: top;\n",
       "    }\n",
       "\n",
       "    .dataframe thead th {\n",
       "        text-align: right;\n",
       "    }\n",
       "</style>\n",
       "<table border=\"1\" class=\"dataframe\">\n",
       "  <thead>\n",
       "    <tr style=\"text-align: right;\">\n",
       "      <th></th>\n",
       "      <th>Age (yrs)</th>\n",
       "      <th>Weight (Kg)</th>\n",
       "      <th>Blood Group</th>\n",
       "      <th>Hb(g/dl)</th>\n",
       "      <th>Marraige Status (Yrs)</th>\n",
       "      <th>Pregnant(Y/N)</th>\n",
       "      <th>RR (breaths/min)</th>\n",
       "      <th>RBS(mg/dl)</th>\n",
       "      <th>Weight gain(Y/N)</th>\n",
       "      <th>Skin darkening (Y/N)</th>\n",
       "      <th>Hair loss(Y/N)</th>\n",
       "      <th>Pimples(Y/N)</th>\n",
       "      <th>Endometrium (mm)</th>\n",
       "    </tr>\n",
       "  </thead>\n",
       "  <tbody>\n",
       "    <tr>\n",
       "      <th>0</th>\n",
       "      <td>28</td>\n",
       "      <td>44.6</td>\n",
       "      <td>15</td>\n",
       "      <td>10.48</td>\n",
       "      <td>7.0</td>\n",
       "      <td>0</td>\n",
       "      <td>22</td>\n",
       "      <td>92.0</td>\n",
       "      <td>0</td>\n",
       "      <td>0</td>\n",
       "      <td>0</td>\n",
       "      <td>0</td>\n",
       "      <td>8.5</td>\n",
       "    </tr>\n",
       "    <tr>\n",
       "      <th>1</th>\n",
       "      <td>36</td>\n",
       "      <td>65.0</td>\n",
       "      <td>15</td>\n",
       "      <td>11.70</td>\n",
       "      <td>11.0</td>\n",
       "      <td>1</td>\n",
       "      <td>20</td>\n",
       "      <td>92.0</td>\n",
       "      <td>0</td>\n",
       "      <td>0</td>\n",
       "      <td>0</td>\n",
       "      <td>0</td>\n",
       "      <td>3.7</td>\n",
       "    </tr>\n",
       "    <tr>\n",
       "      <th>2</th>\n",
       "      <td>33</td>\n",
       "      <td>68.8</td>\n",
       "      <td>11</td>\n",
       "      <td>11.80</td>\n",
       "      <td>10.0</td>\n",
       "      <td>1</td>\n",
       "      <td>18</td>\n",
       "      <td>84.0</td>\n",
       "      <td>0</td>\n",
       "      <td>0</td>\n",
       "      <td>1</td>\n",
       "      <td>1</td>\n",
       "      <td>10.0</td>\n",
       "    </tr>\n",
       "    <tr>\n",
       "      <th>3</th>\n",
       "      <td>37</td>\n",
       "      <td>65.0</td>\n",
       "      <td>13</td>\n",
       "      <td>12.00</td>\n",
       "      <td>4.0</td>\n",
       "      <td>0</td>\n",
       "      <td>20</td>\n",
       "      <td>76.0</td>\n",
       "      <td>0</td>\n",
       "      <td>0</td>\n",
       "      <td>0</td>\n",
       "      <td>0</td>\n",
       "      <td>7.5</td>\n",
       "    </tr>\n",
       "    <tr>\n",
       "      <th>4</th>\n",
       "      <td>25</td>\n",
       "      <td>52.0</td>\n",
       "      <td>11</td>\n",
       "      <td>10.00</td>\n",
       "      <td>1.0</td>\n",
       "      <td>1</td>\n",
       "      <td>18</td>\n",
       "      <td>84.0</td>\n",
       "      <td>0</td>\n",
       "      <td>0</td>\n",
       "      <td>1</td>\n",
       "      <td>0</td>\n",
       "      <td>7.0</td>\n",
       "    </tr>\n",
       "    <tr>\n",
       "      <th>...</th>\n",
       "      <td>...</td>\n",
       "      <td>...</td>\n",
       "      <td>...</td>\n",
       "      <td>...</td>\n",
       "      <td>...</td>\n",
       "      <td>...</td>\n",
       "      <td>...</td>\n",
       "      <td>...</td>\n",
       "      <td>...</td>\n",
       "      <td>...</td>\n",
       "      <td>...</td>\n",
       "      <td>...</td>\n",
       "      <td>...</td>\n",
       "    </tr>\n",
       "    <tr>\n",
       "      <th>536</th>\n",
       "      <td>35</td>\n",
       "      <td>50.0</td>\n",
       "      <td>17</td>\n",
       "      <td>11.00</td>\n",
       "      <td>8.0</td>\n",
       "      <td>0</td>\n",
       "      <td>16</td>\n",
       "      <td>92.0</td>\n",
       "      <td>0</td>\n",
       "      <td>0</td>\n",
       "      <td>0</td>\n",
       "      <td>0</td>\n",
       "      <td>6.7</td>\n",
       "    </tr>\n",
       "    <tr>\n",
       "      <th>537</th>\n",
       "      <td>30</td>\n",
       "      <td>63.2</td>\n",
       "      <td>15</td>\n",
       "      <td>10.80</td>\n",
       "      <td>4.0</td>\n",
       "      <td>1</td>\n",
       "      <td>18</td>\n",
       "      <td>108.0</td>\n",
       "      <td>1</td>\n",
       "      <td>0</td>\n",
       "      <td>0</td>\n",
       "      <td>0</td>\n",
       "      <td>8.2</td>\n",
       "    </tr>\n",
       "    <tr>\n",
       "      <th>538</th>\n",
       "      <td>36</td>\n",
       "      <td>54.0</td>\n",
       "      <td>13</td>\n",
       "      <td>10.80</td>\n",
       "      <td>8.0</td>\n",
       "      <td>0</td>\n",
       "      <td>20</td>\n",
       "      <td>92.0</td>\n",
       "      <td>0</td>\n",
       "      <td>0</td>\n",
       "      <td>0</td>\n",
       "      <td>0</td>\n",
       "      <td>7.3</td>\n",
       "    </tr>\n",
       "    <tr>\n",
       "      <th>539</th>\n",
       "      <td>27</td>\n",
       "      <td>50.0</td>\n",
       "      <td>15</td>\n",
       "      <td>12.00</td>\n",
       "      <td>2.0</td>\n",
       "      <td>0</td>\n",
       "      <td>20</td>\n",
       "      <td>115.0</td>\n",
       "      <td>0</td>\n",
       "      <td>0</td>\n",
       "      <td>0</td>\n",
       "      <td>1</td>\n",
       "      <td>11.5</td>\n",
       "    </tr>\n",
       "    <tr>\n",
       "      <th>540</th>\n",
       "      <td>23</td>\n",
       "      <td>82.0</td>\n",
       "      <td>13</td>\n",
       "      <td>10.20</td>\n",
       "      <td>2.0</td>\n",
       "      <td>0</td>\n",
       "      <td>20</td>\n",
       "      <td>108.0</td>\n",
       "      <td>1</td>\n",
       "      <td>1</td>\n",
       "      <td>1</td>\n",
       "      <td>1</td>\n",
       "      <td>6.9</td>\n",
       "    </tr>\n",
       "  </tbody>\n",
       "</table>\n",
       "<p>541 rows × 13 columns</p>\n",
       "</div>"
      ],
      "text/plain": [
       "      Age (yrs)  Weight (Kg)  Blood Group  Hb(g/dl)  Marraige Status (Yrs)  \\\n",
       "0            28         44.6           15     10.48                    7.0   \n",
       "1            36         65.0           15     11.70                   11.0   \n",
       "2            33         68.8           11     11.80                   10.0   \n",
       "3            37         65.0           13     12.00                    4.0   \n",
       "4            25         52.0           11     10.00                    1.0   \n",
       "..          ...          ...          ...       ...                    ...   \n",
       "536          35         50.0           17     11.00                    8.0   \n",
       "537          30         63.2           15     10.80                    4.0   \n",
       "538          36         54.0           13     10.80                    8.0   \n",
       "539          27         50.0           15     12.00                    2.0   \n",
       "540          23         82.0           13     10.20                    2.0   \n",
       "\n",
       "     Pregnant(Y/N)  RR (breaths/min)  RBS(mg/dl)  Weight gain(Y/N)  \\\n",
       "0                0                22        92.0                 0   \n",
       "1                1                20        92.0                 0   \n",
       "2                1                18        84.0                 0   \n",
       "3                0                20        76.0                 0   \n",
       "4                1                18        84.0                 0   \n",
       "..             ...               ...         ...               ...   \n",
       "536              0                16        92.0                 0   \n",
       "537              1                18       108.0                 1   \n",
       "538              0                20        92.0                 0   \n",
       "539              0                20       115.0                 0   \n",
       "540              0                20       108.0                 1   \n",
       "\n",
       "     Skin darkening (Y/N)  Hair loss(Y/N)  Pimples(Y/N)  Endometrium (mm)  \n",
       "0                       0               0             0               8.5  \n",
       "1                       0               0             0               3.7  \n",
       "2                       0               1             1              10.0  \n",
       "3                       0               0             0               7.5  \n",
       "4                       0               1             0               7.0  \n",
       "..                    ...             ...           ...               ...  \n",
       "536                     0               0             0               6.7  \n",
       "537                     0               0             0               8.2  \n",
       "538                     0               0             0               7.3  \n",
       "539                     0               0             1              11.5  \n",
       "540                     1               1             1               6.9  \n",
       "\n",
       "[541 rows x 13 columns]"
      ]
     },
     "execution_count": 18,
     "metadata": {},
     "output_type": "execute_result"
    }
   ],
   "source": [
    "X"
   ]
  },
  {
   "cell_type": "code",
   "execution_count": 19,
   "id": "daeb0d8c",
   "metadata": {},
   "outputs": [
    {
     "name": "stdout",
     "output_type": "stream",
     "text": [
      "(432, 13) (109, 13) (432,) (109,)\n"
     ]
    }
   ],
   "source": [
    "from sklearn.model_selection import train_test_split\n",
    "X_train,X_test,Y_train,Y_test=train_test_split(X,Y,test_size=0.2,random_state=70)\n",
    "print(X_train.shape,X_test.shape,Y_train.shape,Y_test.shape)"
   ]
  },
  {
   "cell_type": "code",
   "execution_count": 20,
   "id": "b127ffcf",
   "metadata": {},
   "outputs": [
    {
     "data": {
      "text/plain": [
       "LinearRegression()"
      ]
     },
     "execution_count": 20,
     "metadata": {},
     "output_type": "execute_result"
    }
   ],
   "source": [
    "from sklearn.linear_model import LinearRegression\n",
    "lr_model = LinearRegression()\n",
    "lr_model.fit(X_train, Y_train)"
   ]
  },
  {
   "cell_type": "code",
   "execution_count": 21,
   "id": "610833f7",
   "metadata": {},
   "outputs": [
    {
     "name": "stdout",
     "output_type": "stream",
     "text": [
      "0.34819129351395073\n"
     ]
    }
   ],
   "source": [
    "print(lr_model.score(X_train, Y_train))"
   ]
  },
  {
   "cell_type": "code",
   "execution_count": 22,
   "id": "1a29aed7",
   "metadata": {},
   "outputs": [
    {
     "data": {
      "text/plain": [
       "DecisionTreeRegressor()"
      ]
     },
     "execution_count": 22,
     "metadata": {},
     "output_type": "execute_result"
    }
   ],
   "source": [
    "from sklearn.tree import DecisionTreeRegressor\n",
    "regressor = DecisionTreeRegressor()\n",
    "regressor.fit(X_train, Y_train)"
   ]
  },
  {
   "cell_type": "code",
   "execution_count": 23,
   "id": "49bb0657",
   "metadata": {},
   "outputs": [
    {
     "name": "stdout",
     "output_type": "stream",
     "text": [
      "1.0\n"
     ]
    }
   ],
   "source": [
    "print(regressor.score(X_train, Y_train))"
   ]
  },
  {
   "cell_type": "code",
   "execution_count": 24,
   "id": "141fe436",
   "metadata": {},
   "outputs": [
    {
     "data": {
      "text/plain": [
       "RandomForestRegressor(random_state=0)"
      ]
     },
     "execution_count": 24,
     "metadata": {},
     "output_type": "execute_result"
    }
   ],
   "source": [
    "from sklearn.ensemble import RandomForestRegressor\n",
    "reg = RandomForestRegressor(n_estimators=100,\n",
    "                                  random_state=0)\n",
    "reg.fit(X_train, Y_train) "
   ]
  },
  {
   "cell_type": "code",
   "execution_count": 25,
   "id": "67a4b399",
   "metadata": {},
   "outputs": [
    {
     "name": "stdout",
     "output_type": "stream",
     "text": [
      "0.8891869540070914\n"
     ]
    }
   ],
   "source": [
    "print(reg.score(X_train, Y_train))"
   ]
  },
  {
   "cell_type": "code",
   "execution_count": 26,
   "id": "58f47000",
   "metadata": {},
   "outputs": [],
   "source": [
    "Result= regressor.predict(np.array([[28,44.6,15,10.48,7.0,0,22,92.0,0,0,0,0,8.5]]))"
   ]
  },
  {
   "cell_type": "code",
   "execution_count": 27,
   "id": "54686384",
   "metadata": {},
   "outputs": [
    {
     "name": "stdout",
     "output_type": "stream",
     "text": [
      "Output :  PCOS DISEASE\n"
     ]
    }
   ],
   "source": [
    "if Result[0]==0:\n",
    "   print('Output : ', 'PCOS DISEASE')\n",
    "else:\n",
    "   print('Output : ', 'HEALTHY')"
   ]
  },
  {
   "cell_type": "code",
   "execution_count": 28,
   "id": "f0d5a33d",
   "metadata": {},
   "outputs": [],
   "source": [
    "Result1= regressor.predict(np.array([[33,68.8,11,11.80,10.0,1,18,84.0,0,0,1,1,10.0]]))"
   ]
  },
  {
   "cell_type": "code",
   "execution_count": 29,
   "id": "1eb0f2d4",
   "metadata": {},
   "outputs": [
    {
     "name": "stdout",
     "output_type": "stream",
     "text": [
      "Output :  HEALTHY\n"
     ]
    }
   ],
   "source": [
    "if Result1[0]==0:\n",
    "   print('Output : ', 'PCOS DISEASE')\n",
    "else:\n",
    "   print('Output : ', 'HEALTHY')"
   ]
  },
  {
   "cell_type": "code",
   "execution_count": 30,
   "id": "066b5066",
   "metadata": {},
   "outputs": [],
   "source": [
    "Result2= regressor.predict(np.array([[25,68.8,11,11.80,10.0,1,18,84.0,1,1,1,1,10.0]]))"
   ]
  },
  {
   "cell_type": "code",
   "execution_count": 31,
   "id": "5aa725c1",
   "metadata": {},
   "outputs": [
    {
     "name": "stdout",
     "output_type": "stream",
     "text": [
      "Output :  HEALTHY\n"
     ]
    }
   ],
   "source": [
    "if Result2[0]==0:\n",
    "   print('Output : ', 'PCOS DISEASE')\n",
    "else:\n",
    "   print('Output : ', 'HEALTHY')"
   ]
  },
  {
   "cell_type": "code",
   "execution_count": 32,
   "id": "0b727732",
   "metadata": {},
   "outputs": [],
   "source": [
    "import pickle\n",
    "# Dump the trained Naive Bayes classifier with Pickle\n",
    "DT_filename = 'DT.pkl'\n",
    "# Open the file to save as pkl file\n",
    "DT_Model_pkl = open(DT_filename, 'wb')\n",
    "pickle.dump(regressor, DT_Model_pkl)\n",
    "# Close the pickle instances\n",
    "DT_Model_pkl.close()"
   ]
  },
  {
   "cell_type": "code",
   "execution_count": null,
   "id": "cf511366",
   "metadata": {},
   "outputs": [],
   "source": []
  }
 ],
 "metadata": {
  "kernelspec": {
   "display_name": "Python 3",
   "language": "python",
   "name": "python3"
  },
  "language_info": {
   "codemirror_mode": {
    "name": "ipython",
    "version": 3
   },
   "file_extension": ".py",
   "mimetype": "text/x-python",
   "name": "python",
   "nbconvert_exporter": "python",
   "pygments_lexer": "ipython3",
   "version": "3.8.8"
  }
 },
 "nbformat": 4,
 "nbformat_minor": 5
}
